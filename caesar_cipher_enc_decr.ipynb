{
 "cells": [
  {
   "cell_type": "markdown",
   "id": "4ece9abc-6832-4400-bb7f-395e07363b72",
   "metadata": {},
   "source": [
    "## Caesar's Cipher Encryptor-Decryptor"
   ]
  },
  {
   "cell_type": "code",
   "execution_count": 2,
   "id": "d131f080-ffd2-47c4-93e6-3e96cd66bf85",
   "metadata": {},
   "outputs": [
    {
     "name": "stdin",
     "output_type": "stream",
     "text": [
      "Enter the plaintext message (type 'stop' to exit):  stop\n"
     ]
    },
    {
     "name": "stdout",
     "output_type": "stream",
     "text": [
      "Exiting the program.\n"
     ]
    }
   ],
   "source": [
    "def encrypt(message, shift):\n",
    "    encrypted_text = \"\"\n",
    "    for char in message:\n",
    "        if char.isalpha():\n",
    "            is_upper = char.isupper()\n",
    "\n",
    "            char_code = ord(char) - ord('A' if is_upper else 'a')\n",
    "            encrypted_char_code = (char_code + shift) % 26\n",
    "            encrypted_char = chr(encrypted_char_code + ord('A' if is_upper else 'a'))\n",
    "\n",
    "            encrypted_text += encrypted_char\n",
    "        else:\n",
    "            encrypted_text += char\n",
    "    return encrypted_text\n",
    "\n",
    "def decrypt(encrypted_message, shift):\n",
    "    return encrypt(encrypted_message, -shift)\n",
    "\n",
    "while True:\n",
    "    plain_message = input(\"Enter the plaintext message (type 'stop' to exit): \")\n",
    "\n",
    "    if plain_message.lower() == 'stop':\n",
    "        print(\"Exiting the program.\")\n",
    "        break\n",
    "\n",
    "    try:\n",
    "        shift_amount = int(input(\"Enter the shift value: \"))\n",
    "        \n",
    "        encrypted_message = encrypt(plain_message, shift_amount)\n",
    "        print(\"Ciphertext:\", encrypted_message)\n",
    "\n",
    "        decrypted_message = decrypt(encrypted_message, shift_amount)\n",
    "        print(\"Plaintext:\", decrypted_message)\n",
    "\n",
    "    except ValueError:\n",
    "        print(\"Invalid shift value. Please enter an integer.\")"
   ]
  }
 ],
 "metadata": {
  "kernelspec": {
   "display_name": "Python 3 (ipykernel)",
   "language": "python",
   "name": "python3"
  },
  "language_info": {
   "codemirror_mode": {
    "name": "ipython",
    "version": 3
   },
   "file_extension": ".py",
   "mimetype": "text/x-python",
   "name": "python",
   "nbconvert_exporter": "python",
   "pygments_lexer": "ipython3",
   "version": "3.10.9"
  }
 },
 "nbformat": 4,
 "nbformat_minor": 5
}
